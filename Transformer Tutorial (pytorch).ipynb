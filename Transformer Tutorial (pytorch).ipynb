{
 "cells": [
  {
   "cell_type": "markdown",
   "id": "23c7b029",
   "metadata": {},
   "source": [
    "# 使用Pytorch框架"
   ]
  },
  {
   "cell_type": "code",
   "execution_count": 3,
   "id": "d8af6401",
   "metadata": {},
   "outputs": [],
   "source": [
    "# import the pytorch framework\n",
    "import math\n",
    "import torch\n",
    "import numpy as np\n",
    "import torch.nn as nn\n",
    "import torch.optim as optim\n",
    "import torch.utils.data as Data\n",
    "import torch.nn.functional as F"
   ]
  },
  {
   "cell_type": "markdown",
   "id": "ca87bebf",
   "metadata": {},
   "source": [
    "## 词嵌入"
   ]
  },
  {
   "cell_type": "code",
   "execution_count": 4,
   "id": "e72953e9",
   "metadata": {},
   "outputs": [],
   "source": [
    "# 词嵌入\n",
    "class Embeddings(nn.Module):\n",
    "    def __init__(self, d_model, vocab):\n",
    "        # d_model 词嵌入维度\n",
    "        # vocab 字典大小\n",
    "        super (Embeddings, self).__init__()\n",
    "        self.lut = nn.Embedding(vocab, d_model)\n",
    "        self.d_model = d_model\n",
    "    def forward(self, x):\n",
    "        return self.lut(x) * math.sqrt(self.d_model) # 乘以常数"
   ]
  },
  {
   "cell_type": "code",
   "execution_count": 5,
   "id": "e51bd945",
   "metadata": {},
   "outputs": [
    {
     "name": "stdout",
     "output_type": "stream",
     "text": [
      "torch.Size([2, 4, 512])\n"
     ]
    }
   ],
   "source": [
    "# 测试\n",
    "d_model = 512 # embedding_size\n",
    "vocab = 1000\n",
    "x= torch.tensor([[100, 2, 421, 508], [491, 998, 1, 221]], dtype = torch.long)# 两个四个词的句子\n",
    "emb = Embeddings(d_model, vocab)\n",
    "embr = emb(x)\n",
    "print(embr.shape) # 2个句子，四个词的句子，512行"
   ]
  },
  {
   "cell_type": "code",
   "execution_count": 6,
   "id": "b24a868b",
   "metadata": {},
   "outputs": [
    {
     "data": {
      "text/plain": [
       "tensor([[[ -7.3768, -53.0558, -40.1069,  ...,  -4.2341,   5.1325, -17.0627],\n",
       "         [-12.8369,  16.5664,  -8.0134,  ...,  54.1848, -17.3589,   4.2372],\n",
       "         [-13.8192,  34.2724, -10.2865,  ...,  -3.3124,  -2.3546, -16.9529],\n",
       "         [ -2.7785,  -1.2745,  55.6455,  ...,   6.9423,  15.4559,   7.7309]],\n",
       "\n",
       "        [[ 63.3647,  19.0235, -10.1990,  ..., -26.4031,  21.9425, -13.4699],\n",
       "         [ -6.0960, -10.1669,   5.5714,  ...,   8.5668,  12.1078, -13.5453],\n",
       "         [  0.1443,  57.8225,  19.3082,  ...,  19.2952,  -7.5767,   0.1007],\n",
       "         [  5.0110,  22.5033, -18.5793,  ...,   8.2812,  10.3386,  20.4813]]],\n",
       "       grad_fn=<MulBackward0>)"
      ]
     },
     "execution_count": 6,
     "metadata": {},
     "output_type": "execute_result"
    }
   ],
   "source": [
    "embr"
   ]
  },
  {
   "cell_type": "code",
   "execution_count": 7,
   "id": "c557bc4b",
   "metadata": {},
   "outputs": [],
   "source": [
    "# 自建词表\n",
    "corpus = [\"he is an old worker\", \"english is a useful tool\", \"the cinema is far away\"]"
   ]
  },
  {
   "cell_type": "code",
   "execution_count": 8,
   "id": "cf5bf94d",
   "metadata": {},
   "outputs": [
    {
     "data": {
      "text/plain": [
       "['he',\n",
       " 'is',\n",
       " 'an',\n",
       " 'old',\n",
       " 'worker',\n",
       " 'english',\n",
       " 'is',\n",
       " 'a',\n",
       " 'useful',\n",
       " 'tool',\n",
       " 'the',\n",
       " 'cinema',\n",
       " 'is',\n",
       " 'far',\n",
       " 'away']"
      ]
     },
     "execution_count": 8,
     "metadata": {},
     "output_type": "execute_result"
    }
   ],
   "source": [
    "vocab = []\n",
    "for i in corpus:\n",
    "    for j in i.split():\n",
    "        vocab.append(j)\n",
    "# 分开成单独词\n",
    "vocab"
   ]
  },
  {
   "cell_type": "code",
   "execution_count": 9,
   "id": "6b3fdbb4",
   "metadata": {},
   "outputs": [
    {
     "data": {
      "text/plain": [
       "{'old': 0,\n",
       " 'is': 1,\n",
       " 'useful': 2,\n",
       " 'an': 3,\n",
       " 'far': 4,\n",
       " 'he': 5,\n",
       " 'tool': 6,\n",
       " 'a': 7,\n",
       " 'cinema': 8,\n",
       " 'away': 9,\n",
       " 'the': 10,\n",
       " 'english': 11,\n",
       " 'worker': 12}"
      ]
     },
     "execution_count": 9,
     "metadata": {},
     "output_type": "execute_result"
    }
   ],
   "source": [
    "# 去重复独热编码\n",
    "vocab_dict = {}\n",
    "for i in enumerate(set(vocab)):\n",
    "    vocab_dict[i[1]]=i[0] #按位置放入字典\n",
    "vocab_dict "
   ]
  },
  {
   "cell_type": "code",
   "execution_count": 10,
   "id": "36aaff5b",
   "metadata": {},
   "outputs": [],
   "source": [
    "# 准备词嵌入\n",
    "# vocab size \n",
    "# embedding dimension\n",
    "embeds = nn.Embedding(len(vocab_dict), 5) \n"
   ]
  },
  {
   "cell_type": "code",
   "execution_count": 11,
   "id": "ead22a82",
   "metadata": {},
   "outputs": [
    {
     "data": {
      "text/plain": [
       "tensor([ 5,  1,  3,  0, 12])"
      ]
     },
     "execution_count": 11,
     "metadata": {},
     "output_type": "execute_result"
    }
   ],
   "source": [
    "# 选取句子\n",
    "input_tensor = torch.tensor([vocab_dict[i] for i in corpus[0].split()], dtype = torch.long)\n",
    "# 获取句子中的词在词表中的位置码\n",
    "input_tensor"
   ]
  },
  {
   "cell_type": "code",
   "execution_count": 12,
   "id": "c82ad8c0",
   "metadata": {},
   "outputs": [
    {
     "data": {
      "text/plain": [
       "tensor([[-0.7279,  1.2835, -0.3415,  0.2046,  1.0759],\n",
       "        [-0.2866, -1.1746, -0.3594,  1.3604,  0.1719],\n",
       "        [-0.1026, -2.0740, -1.3745, -0.9865, -1.1625],\n",
       "        [-1.4072,  1.0669, -0.5726, -1.1552, -0.8770],\n",
       "        [ 1.7803,  1.7893,  1.2278, -0.8851,  0.0580]],\n",
       "       grad_fn=<EmbeddingBackward0>)"
      ]
     },
     "execution_count": 12,
     "metadata": {},
     "output_type": "execute_result"
    }
   ],
   "source": [
    "output_tensor = embeds(input_tensor)\n",
    "output_tensor "
   ]
  },
  {
   "cell_type": "code",
   "execution_count": 13,
   "id": "23224a26",
   "metadata": {},
   "outputs": [
    {
     "data": {
      "text/plain": [
       "[(['order', 'by'], 'of'),\n",
       " (['of', 'order'], 'the'),\n",
       " (['the', 'of'], 'peaky'),\n",
       " (['peaky', 'the'], 'blinders'),\n",
       " (['blinders', 'peaky'], \"today's\"),\n",
       " ([\"today's\", 'blinders'], 'weather'),\n",
       " (['weather', \"today's\"], 'is'),\n",
       " (['is', 'weather'], 'good')]"
      ]
     },
     "execution_count": 13,
     "metadata": {},
     "output_type": "execute_result"
    }
   ],
   "source": [
    "# N-GRAM model 假设下一个词跟前面n个词相关\n",
    "test_sentences = \"\"\"by order of the peaky\n",
    "blinders today's weather is good\"\"\"\n",
    "CONTEXT_SIZE = 2\n",
    "test_sentence = test_sentences.split()\n",
    "ngrams = [\n",
    "    (\n",
    "        [test_sentence[i-j-1] for j in range(CONTEXT_SIZE)],\n",
    "        test_sentence[i]\n",
    "    )\n",
    "    for i in range(CONTEXT_SIZE, len(test_sentence))\n",
    "]\n",
    "ngrams"
   ]
  },
  {
   "cell_type": "code",
   "execution_count": 14,
   "id": "56d2d1e2",
   "metadata": {},
   "outputs": [
    {
     "data": {
      "text/plain": [
       "['by',\n",
       " 'order',\n",
       " 'of',\n",
       " 'the',\n",
       " 'peaky',\n",
       " 'blinders',\n",
       " \"today's\",\n",
       " 'weather',\n",
       " 'is',\n",
       " 'good']"
      ]
     },
     "execution_count": 14,
     "metadata": {},
     "output_type": "execute_result"
    }
   ],
   "source": [
    "test_sentence"
   ]
  },
  {
   "cell_type": "code",
   "execution_count": 15,
   "id": "e592f169",
   "metadata": {},
   "outputs": [
    {
     "data": {
      "text/plain": [
       "{'order': 0,\n",
       " 'is': 1,\n",
       " 'good': 2,\n",
       " 'blinders': 3,\n",
       " 'by': 4,\n",
       " 'of': 5,\n",
       " 'peaky': 6,\n",
       " \"today's\": 7,\n",
       " 'weather': 8,\n",
       " 'the': 9}"
      ]
     },
     "execution_count": 15,
     "metadata": {},
     "output_type": "execute_result"
    }
   ],
   "source": [
    "# 获取词表\n",
    "test_sentence\n",
    "test_sentence_dict = {}\n",
    "for item in enumerate(set(test_sentence)):\n",
    "    test_sentence_dict[item[1]]=item[0]\n",
    "test_sentence_dict"
   ]
  },
  {
   "cell_type": "markdown",
   "id": "ad66651d",
   "metadata": {},
   "source": [
    "## NGramLanguageModeler 模型"
   ]
  },
  {
   "cell_type": "code",
   "execution_count": 16,
   "id": "6a06bd68",
   "metadata": {},
   "outputs": [],
   "source": [
    "# 训练词向量\n",
    "class NGramLanguageModeler(nn.Module):\n",
    "    # vocab_size 词表长度\n",
    "    # embedding_dim 词向量维度\n",
    "    # context_size 前面词数量\n",
    "    def __init__(self, vocab_size, embedding_dim, context_size):\n",
    "        super(NGramLanguageModeler, self).__init__()\n",
    "        self.embeddings = nn.Embedding(vocab_size, embedding_dim)\n",
    "        self.linear1 = nn.Linear(context_size * embedding_dim, 128)\n",
    "        self.linear2 = nn.Linear(128, vocab_size)\n",
    "    \n",
    "    def forward(self, inputs):\n",
    "        # view 维度\n",
    "        embeds = self.embeddings(inputs).view(1, -1)\n",
    "        out = F.relu(self.linear1(embeds))\n",
    "        out = self.linear2(out)\n",
    "        log_probs = F.log_softmax(out, dim=1)\n",
    "        return log_probs\n",
    "\n",
    "# 损失函数 负对数\n",
    "loss_function = nn.NLLLoss()"
   ]
  },
  {
   "cell_type": "markdown",
   "id": "6262644f",
   "metadata": {},
   "source": [
    "### 实例化模型和训练测试"
   ]
  },
  {
   "cell_type": "code",
   "execution_count": 17,
   "id": "3472cd62",
   "metadata": {},
   "outputs": [],
   "source": [
    "model = NGramLanguageModeler(len(test_sentence), embedding_dim=5, context_size=2)\n",
    "optimer = optim.SGD(model.parameters(), lr=0.001)"
   ]
  },
  {
   "cell_type": "code",
   "execution_count": 18,
   "id": "a43e72f6",
   "metadata": {},
   "outputs": [
    {
     "data": {
      "text/plain": [
       "[(['order', 'by'], 'of'),\n",
       " (['of', 'order'], 'the'),\n",
       " (['the', 'of'], 'peaky'),\n",
       " (['peaky', 'the'], 'blinders'),\n",
       " (['blinders', 'peaky'], \"today's\"),\n",
       " ([\"today's\", 'blinders'], 'weather'),\n",
       " (['weather', \"today's\"], 'is'),\n",
       " (['is', 'weather'], 'good')]"
      ]
     },
     "execution_count": 18,
     "metadata": {},
     "output_type": "execute_result"
    }
   ],
   "source": [
    "# ngrams structure\n",
    "ngrams"
   ]
  },
  {
   "cell_type": "code",
   "execution_count": 19,
   "id": "bc0c884e",
   "metadata": {},
   "outputs": [
    {
     "data": {
      "text/plain": [
       "{'order': 0,\n",
       " 'is': 1,\n",
       " 'good': 2,\n",
       " 'blinders': 3,\n",
       " 'by': 4,\n",
       " 'of': 5,\n",
       " 'peaky': 6,\n",
       " \"today's\": 7,\n",
       " 'weather': 8,\n",
       " 'the': 9}"
      ]
     },
     "execution_count": 19,
     "metadata": {},
     "output_type": "execute_result"
    }
   ],
   "source": [
    "# test_sentence_dict structure\n",
    "test_sentence_dict"
   ]
  },
  {
   "cell_type": "code",
   "execution_count": 20,
   "id": "393b08e9",
   "metadata": {},
   "outputs": [
    {
     "name": "stdout",
     "output_type": "stream",
     "text": [
      "Loss: tensor(1.9068, grad_fn=<NllLossBackward0>)\n",
      "Loss: tensor(1.8760, grad_fn=<NllLossBackward0>)\n",
      "Loss: tensor(1.8458, grad_fn=<NllLossBackward0>)\n",
      "Loss: tensor(1.8159, grad_fn=<NllLossBackward0>)\n",
      "Loss: tensor(1.7866, grad_fn=<NllLossBackward0>)\n",
      "Loss: tensor(1.7577, grad_fn=<NllLossBackward0>)\n",
      "Loss: tensor(1.7292, grad_fn=<NllLossBackward0>)\n",
      "Loss: tensor(1.7013, grad_fn=<NllLossBackward0>)\n",
      "Loss: tensor(1.6737, grad_fn=<NllLossBackward0>)\n",
      "Loss: tensor(1.6467, grad_fn=<NllLossBackward0>)\n",
      "Loss: tensor(1.6201, grad_fn=<NllLossBackward0>)\n",
      "Loss: tensor(1.5939, grad_fn=<NllLossBackward0>)\n",
      "Loss: tensor(1.5682, grad_fn=<NllLossBackward0>)\n",
      "Loss: tensor(1.5429, grad_fn=<NllLossBackward0>)\n",
      "Loss: tensor(1.5181, grad_fn=<NllLossBackward0>)\n",
      "Loss: tensor(1.4937, grad_fn=<NllLossBackward0>)\n",
      "Loss: tensor(1.4698, grad_fn=<NllLossBackward0>)\n",
      "Loss: tensor(1.4462, grad_fn=<NllLossBackward0>)\n",
      "Loss: tensor(1.4231, grad_fn=<NllLossBackward0>)\n",
      "Loss: tensor(1.4004, grad_fn=<NllLossBackward0>)\n",
      "Loss: tensor(1.3781, grad_fn=<NllLossBackward0>)\n",
      "Loss: tensor(1.3562, grad_fn=<NllLossBackward0>)\n",
      "Loss: tensor(1.3347, grad_fn=<NllLossBackward0>)\n",
      "Loss: tensor(1.3136, grad_fn=<NllLossBackward0>)\n",
      "Loss: tensor(1.2929, grad_fn=<NllLossBackward0>)\n",
      "Loss: tensor(1.2726, grad_fn=<NllLossBackward0>)\n",
      "Loss: tensor(1.2527, grad_fn=<NllLossBackward0>)\n",
      "Loss: tensor(1.2332, grad_fn=<NllLossBackward0>)\n",
      "Loss: tensor(1.2140, grad_fn=<NllLossBackward0>)\n",
      "Loss: tensor(1.1952, grad_fn=<NllLossBackward0>)\n"
     ]
    }
   ],
   "source": [
    "for epoch in range(30):\n",
    "    for i in ngrams:\n",
    "        # i[0]就是x的输入特征\n",
    "        # print(i[0])\n",
    "        # test_sentence_dict[i]即通过词找对应的数字\n",
    "        input_x = torch.tensor([test_sentence_dict[i] for i in i[0]], dtype = torch.long) #找寻词对应的数字\n",
    "        output = model(input_x)\n",
    "        # 归零\n",
    "        model.zero_grad()\n",
    "        # i[1]是正确输出\n",
    "        loss = loss_function(output, torch.tensor([test_sentence_dict[i[1]]], dtype = torch.long)) #正确标签\n",
    "        loss.backward()\n",
    "        optimer.step()\n",
    "    print(\"Loss:\", loss)"
   ]
  },
  {
   "cell_type": "code",
   "execution_count": 21,
   "id": "b643f00f",
   "metadata": {
    "scrolled": true
   },
   "outputs": [
    {
     "data": {
      "text/plain": [
       "Parameter containing:\n",
       "tensor([[ 0.8501, -0.0337,  0.2773, -0.6345, -0.8030],\n",
       "        [ 0.2423,  1.7972, -1.1990, -1.0840, -1.0940],\n",
       "        [ 1.3362, -1.3035,  0.0198,  0.6043,  0.7613],\n",
       "        [-1.1584, -0.1223, -0.4709,  1.5497,  0.8647],\n",
       "        [ 1.6048,  1.1512,  1.2521, -0.5675, -0.0711],\n",
       "        [ 0.6789, -1.7357, -0.1951, -0.5943,  1.5709],\n",
       "        [ 1.5545,  0.5139, -1.5495, -0.8137,  1.0103],\n",
       "        [ 1.6512,  0.3123, -0.8164,  0.7496, -1.0919],\n",
       "        [-0.4720,  1.4504,  1.7520, -1.1109, -0.8282],\n",
       "        [-0.7103, -1.4154, -0.0588,  0.6991,  0.8752]], requires_grad=True)"
      ]
     },
     "execution_count": 21,
     "metadata": {},
     "output_type": "execute_result"
    }
   ],
   "source": [
    "model.embeddings.weight"
   ]
  },
  {
   "cell_type": "markdown",
   "id": "5982a129",
   "metadata": {},
   "source": [
    "* Word2vec两个架构是CBOW, Skip gram. CBOW 是用两边的词， Skip gram使用目标词前后面的词"
   ]
  },
  {
   "cell_type": "markdown",
   "id": "0bd22367",
   "metadata": {},
   "source": [
    "## 位置编码"
   ]
  },
  {
   "cell_type": "markdown",
   "id": "dc28752c",
   "metadata": {},
   "source": [
    "* 一开始是按照顺序从1一个一个递增 [1, n]\n",
    "* 或者在[0, 1]之间, 另外一个问题句子长度不一样，句子的位置编码就不同了\n",
    "* 在transformer， 位置编码的维度和词嵌入的维度必须一样\n",
    "* 位置加词嵌入的向量，有种加bias的意思，位置权重和词的特征加在一起"
   ]
  },
  {
   "cell_type": "markdown",
   "id": "45b9f855",
   "metadata": {},
   "source": [
    "对于每个维度 \\( i \\)：\n",
    "\n",
    "- 如果 \\( i \\) 是偶数（即 \\( i = 2k \\)），则位置编码使用正弦函数：\n",
    "  $$ PE(pos, 2k) = \\sin\\left(\\frac{pos}{10000^{2k/d_{\\text{model}}}}\\right) $$\n",
    "- 如果 \\( i \\) 是奇数（即 \\( i = 2k + 1 \\)），则位置编码使用余弦函数：\n",
    "  $$ PE(pos, 2k+1) = \\cos\\left(\\frac{pos}{10000^{2k/d_{\\text{model}}}}\\right) $$\n"
   ]
  },
  {
   "cell_type": "code",
   "execution_count": 22,
   "id": "3a54bb49",
   "metadata": {},
   "outputs": [],
   "source": [
    "import numpy as np\n",
    "import matplotlib.pyplot as plot"
   ]
  },
  {
   "cell_type": "code",
   "execution_count": 23,
   "id": "bdfd6bb7",
   "metadata": {},
   "outputs": [],
   "source": [
    "# 位置编码公式实现\n",
    "def getPositionEncoding(squence_length, dim, n=10000):\n",
    "    # squence_length 是最长句子长度\n",
    "    # dim 每个词的位置向量\n",
    "    PE = np.zeros(shape=(squence_length, dim))\n",
    "    # 给squence_length做位置向量\n",
    "    for pos in range(squence_length):\n",
    "        for i in range(int(dim/2)):\n",
    "            denominator = np.power(n, 2*i/dim)\n",
    "            PE[pos, 2*i] = np.sin(pos/denominator)\n",
    "            PE[pos, 2*i+1] = np.cos(pos/denominator)\n",
    "            \n",
    "    return PE"
   ]
  },
  {
   "cell_type": "code",
   "execution_count": 24,
   "id": "e34653c3",
   "metadata": {},
   "outputs": [
    {
     "name": "stdout",
     "output_type": "stream",
     "text": [
      "[[ 0.00000000e+00  1.00000000e+00  0.00000000e+00 ...  1.00000000e+00\n",
      "   0.00000000e+00  1.00000000e+00]\n",
      " [ 8.41470985e-01  5.40302306e-01  7.61720408e-01 ...  9.99999991e-01\n",
      "   1.15478198e-04  9.99999993e-01]\n",
      " [ 9.09297427e-01 -4.16146837e-01  9.87046251e-01 ...  9.99999964e-01\n",
      "   2.30956395e-04  9.99999973e-01]\n",
      " ...\n",
      " [ 1.23573123e-01 -9.92335469e-01  1.39920673e-01 ...  9.99980359e-01\n",
      "   5.42744868e-03  9.99985271e-01]\n",
      " [-7.68254661e-01 -6.40144339e-01 -6.63571724e-01 ...  9.99979514e-01\n",
      "   5.54292514e-03  9.99984638e-01]\n",
      " [-9.53752653e-01  3.00592544e-01 -9.99784705e-01 ...  9.99978652e-01\n",
      "   5.65840153e-03  9.99983991e-01]]\n"
     ]
    }
   ],
   "source": [
    "PE = getPositionEncoding(squence_length=50, dim=128, n=10000)\n",
    "print(PE)"
   ]
  },
  {
   "cell_type": "code",
   "execution_count": 25,
   "id": "aa56eb6e",
   "metadata": {},
   "outputs": [
    {
     "data": {
      "image/png": "[encoded data removed]",
      "text/plain": [
       "<Figure size 1228.8x480 with 2 Axes>"
      ]
     },
     "metadata": {},
     "output_type": "display_data"
    }
   ],
   "source": [
    "# 绘制位置图\n",
    "caxes = plot.matshow(PE, interpolation = \"nearest\")\n",
    "plot.colorbar(caxes)\n",
    "plot.show()"
   ]
  },
  {
   "cell_type": "markdown",
   "id": "065bdabb",
   "metadata": {},
   "source": [
    "## Transformer Position Encoding\n",
    "* 以下代码为transformer的源代码其中的位置编码\n",
    "* d_model: the dimension of embedding layer\n",
    "* max_len: longest length of the sentence"
   ]
  },
  {
   "cell_type": "code",
   "execution_count": 26,
   "id": "fc21cff3",
   "metadata": {},
   "outputs": [],
   "source": [
    "class PositionalEncoding(nn.Module):\n",
    "    def __init__(self, d_model, dropout, max_len=5000):\n",
    "        # d_model: the dimension of embedding layer\n",
    "        # dropout: \n",
    "        # max_len: longest length of the sentence\n",
    "        super(PositionalEncoding, self).__init__()\n",
    "        self.dropout = nn.Dropout(p=dropout)\n",
    "        pe = torch.zeros(max_len, d_model)\n",
    "        # unsqueeze 竖起来\n",
    "        position = torch.arange(0, max_len).unsqueeze(1)\n",
    "        # 使用arange计算w\n",
    "        div_term = torch.exp(torch.arange(0, d_model, 2) * -(math.log(1000.0)/d_model))\n",
    "        pe[:, 0::2] = torch.sin(position * div_term)\n",
    "        pe[:, 1::2] = torch.cos(position * div_term)\n",
    "        pe = pe.unsqueeze(0)\n",
    "        self.register_buffer(\"pe\", pe)\n",
    "    \n",
    "    def forward(self, x):\n",
    "        # x 就是词向量\n",
    "        # variable使其参与梯度下降更新\n",
    "        x = x + Variable(self.pe[:, :x.size(1)], requires_grad=False)\n",
    "        return self.dropout(x)"
   ]
  },
  {
   "cell_type": "markdown",
   "id": "bf5de481",
   "metadata": {},
   "source": [
    "## Attention注意力机制"
   ]
  },
  {
   "cell_type": "markdown",
   "id": "8fe5f504",
   "metadata": {},
   "source": [
    "* Query 请求\n",
    "* Key 键\n",
    "* Value 值\n",
    "* 原理，求q和k的差值$$ softmax(-(1/2)*(q-k)**2) $$\n",
    "* 点乘找值的大小找关系这个就是自注意力"
   ]
  },
  {
   "cell_type": "markdown",
   "id": "f5d291b6",
   "metadata": {},
   "source": [
    "### Transformer重要代码\n",
    "* mask(掩码) 操作跟relu非常的相似，relu(x小于0就不要，大于0等于本身)\n",
    "* mask_fill\n",
    "* 任务适应性上mask图像兴趣，图像屏蔽\n",
    "* 语句padding补齐"
   ]
  },
  {
   "cell_type": "markdown",
   "id": "7566fac3",
   "metadata": {},
   "source": [
    "### MASKED_FILL"
   ]
  },
  {
   "cell_type": "code",
   "execution_count": 27,
   "id": "ded48558",
   "metadata": {},
   "outputs": [
    {
     "name": "stdout",
     "output_type": "stream",
     "text": [
      "origin tensor: \n",
      "tensor([[ 0,  1,  2,  3],\n",
      "        [ 4,  5,  6,  7],\n",
      "        [ 8,  9, 10, 11],\n",
      "        [12, 13, 14, 15]])\n",
      "\n"
     ]
    }
   ],
   "source": [
    "# 例子 生成一个4✖️4的张量\n",
    "tensor = torch.arange(0, 16).view(4,4)\n",
    "print(\"origin tensor: \\n{}\\n\".format(tensor))"
   ]
  },
  {
   "cell_type": "code",
   "execution_count": 28,
   "id": "4c50b08f",
   "metadata": {},
   "outputs": [
    {
     "name": "stdout",
     "output_type": "stream",
     "text": [
      "mask tensor: \n",
      "tensor([[ True, False, False, False],\n",
      "        [False,  True, False, False],\n",
      "        [False, False,  True, False],\n",
      "        [False, False, False,  True]])\n",
      "\n"
     ]
    }
   ],
   "source": [
    "mask = torch.eye(4, dtype=torch.bool)\n",
    "print(\"mask tensor: \\n{}\\n\".format(mask))"
   ]
  },
  {
   "cell_type": "code",
   "execution_count": 29,
   "id": "872a81e4",
   "metadata": {},
   "outputs": [
    {
     "name": "stdout",
     "output_type": "stream",
     "text": [
      "filled tensor: \n",
      "tensor([[ 0,  1,  2,  3],\n",
      "        [ 4,  0,  6,  7],\n",
      "        [ 8,  9,  0, 11],\n",
      "        [12, 13, 14,  0]])\n",
      "\n"
     ]
    }
   ],
   "source": [
    "tensor = tensor.masked_fill(mask, 0)\n",
    "print(\"filled tensor: \\n{}\\n\".format(tensor))\n",
    "# 用0遮住对角线的True"
   ]
  },
  {
   "cell_type": "code",
   "execution_count": 30,
   "id": "28fce1ec",
   "metadata": {},
   "outputs": [],
   "source": [
    "# Dropout是正则方法，使用时有的值会变成0别的值会变会除以（1-dropout）"
   ]
  },
  {
   "cell_type": "markdown",
   "id": "1d784dc3",
   "metadata": {},
   "source": [
    "### RANDN\n",
    "* 其中的元素遵循标准正态分布（均值为0，标准差为1）"
   ]
  },
  {
   "cell_type": "markdown",
   "id": "0c84bf01",
   "metadata": {},
   "source": [
    "* torch.randn(*size, out=None, dtype=None, layout=torch.strided, device=None, requires_grad=False)\n",
    "* size：指定生成的张量的形状。可以是多个参数，如 torch.randn(3, 4) 生成一个3x4的张量。\n",
    "* out：可选参数，用于指定输出张量。\n",
    "* dtype：指定返回张量的数据类型。\n",
    "* layout：内存中的布局类型。\n",
    "* device：指定张量所在的设备（CPU或GPU）。\n",
    "* requires_grad：如果设置为 True，则开始跟踪在张量上的所有操作。"
   ]
  },
  {
   "cell_type": "markdown",
   "id": "a690c959",
   "metadata": {},
   "source": [
    "### VIEW"
   ]
  },
  {
   "cell_type": "markdown",
   "id": "30f58499",
   "metadata": {},
   "source": [
    "* view单独使用-1就是展平为1维\n",
    "* view(m, n)就是指把这个张量变成m✖️n的张量、\n",
    "* view(m, n)还添加了-1时指pytorch帮助来看弄成几维"
   ]
  },
  {
   "cell_type": "markdown",
   "id": "c5894d2f",
   "metadata": {},
   "source": [
    "### REGISTER_BUFFER\n",
    "* Parameter与Buffer\n",
    "* 模型保存下来的参数有两种一种需要更新即是Parameter\n",
    "* 另一种不需要更新参数的就是Buffer（只参与梯度计算）"
   ]
  },
  {
   "cell_type": "markdown",
   "id": "91c38f93",
   "metadata": {},
   "source": [
    "### VARIABLE\n",
    "* 使张量必须参与反向传播，梯度下降"
   ]
  },
  {
   "cell_type": "markdown",
   "id": "c731625f",
   "metadata": {},
   "source": [
    "### MATMUL\n",
    "* 使用torch.matmul( matrix1， matrix2)\n",
    "* 矩阵1和矩阵2乘"
   ]
  },
  {
   "cell_type": "markdown",
   "id": "d1200966",
   "metadata": {},
   "source": [
    "### CONTIGUOUS\n",
    "* 解决pytorch的不连续问题，开辟新的内存空间\n",
    "* 直接变量名.contiguous()"
   ]
  },
  {
   "cell_type": "markdown",
   "id": "ac03b148",
   "metadata": {},
   "source": [
    "## Transformer多头注意力代码"
   ]
  },
  {
   "cell_type": "code",
   "execution_count": 31,
   "id": "38a15df3",
   "metadata": {},
   "outputs": [],
   "source": [
    "# attention function 例子\n",
    "def attention(query, key, value, mask=None, dropout=None):\n",
    "    d_k = query.size(-1)\n",
    "    scores = torch.matmul(query, key.transpose(-2, -1) / math.sqet(d_k)) \n",
    "    if mask is not None:\n",
    "        # mask==0 是全遮挡\n",
    "        scores = scores.masked_fill(mask==0, -1e9)\n",
    "    p_attn = F.softmax(scores, dim = -1)\n",
    "    \n",
    "    if dropout is not None:\n",
    "        p_attn = dropout(p_attn)\n",
    "    \n",
    "    return torch.matmul(p_attn, value), p_attn"
   ]
  },
  {
   "cell_type": "code",
   "execution_count": 33,
   "id": "64eb1478",
   "metadata": {},
   "outputs": [],
   "source": [
    "# 深层拷贝\n",
    "def clones(module, N):\n",
    "    return nn.ModuleList([copy.deepcopy(module) for _ in range(N)])"
   ]
  },
  {
   "cell_type": "code",
   "execution_count": 39,
   "id": "a0596540",
   "metadata": {},
   "outputs": [],
   "source": [
    "#多头注意力\n",
    "class MultiHeadAttention(nn.Module):\n",
    "    def __init__(self, head, embedding_dim, drop_out=0.1):\n",
    "        # head number\n",
    "        # dimension of the embedding layer\n",
    "        # dropout\n",
    "        super(MultiHeadAttention, self).__init__()\n",
    "        # 确认可以被整除\n",
    "        assert embedding_dim % head == 0\n",
    "        self.head = head\n",
    "        self.d_k = embedding_dim // head\n",
    "        # acquire four linear layers (Q, K, V) and final output\n",
    "        # 实例化的时候这里是 512 * 512 维度，未降维 \n",
    "        # qkv的行数必须跟x的词嵌入一致(n, m) n为512， m=n/head\n",
    "        self.linears = clones(nn.Linear(embedding_dim, embedding_dim), 4)\n",
    "        self.attn = None\n",
    "        self.dropout = nn.Dropout(p=dropout)\n",
    "    \n",
    "    # 前向传播\n",
    "    def forward(self, query, key, value, mask=None):\n",
    "        if mask is not None:\n",
    "            mask = mask.unsqueeze(0)\n",
    "        \n",
    "        batch_size = query.size(0)\n",
    "        print(query.shape)\n",
    "        print(len(self.linears))\n",
    "        \n",
    "        # 经过线性层投影分成head个注意力\n",
    "        query, key, value = [model(x).view(batch_size, -1, self.head, self.d_k).transpose(1, 2)\n",
    "                             for model, x in zip(self.linears, (query, key, value))]\n",
    "        # 各自注意力\n",
    "        print(query.shape)\n",
    "        x, self.attn = attention(query, key, value, mask = mask, dropout=self.dropout)\n",
    "        # 转换回来\n",
    "        print(x.shape)\n",
    "        x = x.transpose(1, 2).contiguous().view(batch_size, -1, self.head * self.d_k)\n",
    "        # 经过最后一个线性层\n",
    "        return self.linears[-1](x)"
   ]
  },
  {
   "cell_type": "code",
   "execution_count": null,
   "id": "2cfe876f",
   "metadata": {},
   "outputs": [],
   "source": [
    "# 前馈全连接层PositionwiseFeedForward\n"
   ]
  },
  {
   "cell_type": "code",
   "execution_count": 82,
   "id": "ff678154",
   "metadata": {},
   "outputs": [],
   "source": [
    "# 参数设置\n",
    "head = 8\n",
    "embedding_dim = 512\n",
    "dropout= 0.2\n",
    "#query = key = value = pe_result\n",
    "mask = torch.zeros(8, 4, 4)\n",
    "# 实例化\n",
    "#mha = MultiHeadAttention(head, embedding_dim, dropout)\n",
    "\n",
    "#mha_result = mha(query, key, value, mask)\n"
   ]
  },
  {
   "cell_type": "code",
   "execution_count": null,
   "id": "6d116345",
   "metadata": {},
   "outputs": [],
   "source": []
  },
  {
   "cell_type": "markdown",
   "id": "041a1a0c",
   "metadata": {},
   "source": [
    "## 子连接结构"
   ]
  },
  {
   "cell_type": "code",
   "execution_count": 53,
   "id": "54281614",
   "metadata": {},
   "outputs": [],
   "source": [
    "class SublayerConnection(nn.Module):\n",
    "    def __init__(self, size, dropout=0.1):\n",
    "        super(SublayerConnection, self).__init__()\n",
    "        self.norm = LayerNorm(size)\n",
    "        self.dropout = nn.Dropout(p=dropout)\n",
    "        self.size = size\n",
    "    \n",
    "    def forward(self, x, sublayer):\n",
    "        # x与经过self attention的x想加\n",
    "        return x + self.dropout(subplayer(self.norm(x)))"
   ]
  },
  {
   "cell_type": "markdown",
   "id": "6c2222c7",
   "metadata": {},
   "source": [
    "## Encoder and Decoder编码器与解码器\n",
    "* 编码器：将输入(input)转为特征(Feature)\n",
    "* 解码器：将特征(Feature)转为目标(Target)\n",
    "* Feature = Encoder(input)\n",
    "* Target = Decoder(Feature, input)"
   ]
  },
  {
   "cell_type": "code",
   "execution_count": 64,
   "id": "98fe2013",
   "metadata": {},
   "outputs": [],
   "source": [
    "# 编码器层\n",
    "class EncoderLayer(nn.Module):\n",
    "    def __init__(self, size, self_attn, feed_forward, dropout):\n",
    "        # size: 词嵌入维度\n",
    "        # self_attn: 代表输入的多头注意力实例化对象\n",
    "        # feed_forward 前馈全连接层实例\n",
    "        super(EncoderLayer, self).__init__()\n",
    "        self.self_attn = self_attn\n",
    "        self.feed_forward = feed_forward\n",
    "        self.sublayer = clones(SublayerConnection(size, dropout), 2)\n",
    "    \n",
    "    def forward(self, x, mask):\n",
    "        # 第一个子连接层放入注意力\n",
    "        x = self.sublayer[0](x, lambda x: self.self_attn(x, x, x, mask))\n",
    "        # 第二个是前馈神经\n",
    "        return self.sublayer[1](x, self.feed_forward)"
   ]
  },
  {
   "cell_type": "code",
   "execution_count": 65,
   "id": "a9e3da21",
   "metadata": {},
   "outputs": [],
   "source": [
    "# Encoder 编码器\n",
    "# 用于设置Encoder的个数\n",
    "class Encoder(nn.Module):\n",
    "    def __init__(self, layer, N):\n",
    "        super(Encoder, self).__init__()\n",
    "        self.layers = clones(layer, N)\n",
    "        self.norm = LayerNorm(layer.size)\n",
    "    \n",
    "    def forward(self, x, mask):\n",
    "        for layer in self.layers:\n",
    "            x = layer(x, mask)\n",
    "        return self.norm(x)"
   ]
  },
  {
   "cell_type": "code",
   "execution_count": 66,
   "id": "ba43147d",
   "metadata": {},
   "outputs": [],
   "source": [
    "# Decoder layer structure\n",
    "# 解码器层\n",
    "class DecoderLayer(nn.Module):\n",
    "    def __init__(self, size, self_attn, src_attn, feed_forward, dropout):\n",
    "        super(DecoderLayer, self).__init__()\n",
    "        self.size = size\n",
    "        self.self_attn = self_attn\n",
    "        self.src_attn = src_attn\n",
    "        self.feed_forward = feed_forward\n",
    "        self.sublayer = clones(SublayerConnection(size, dropout), 3)\n",
    "    \n",
    "    def forward(self, x, memory, source_mask, target_mask):\n",
    "        # memory 是之前的k, v\n",
    "        m = memory\n",
    "        x = self.sublayer[0](x, lambda x: self.self_attn(x, x, x, target))\n",
    "        x = self.sublayer[1](x, lambda x: self.src_attn(x, m, m, source_mask))\n",
    "        return self.sublayer[2](x, self.feed_forward)"
   ]
  },
  {
   "cell_type": "code",
   "execution_count": 67,
   "id": "816d9752",
   "metadata": {},
   "outputs": [],
   "source": [
    "# Decoder \n",
    "class Decoder(nn.Module):\n",
    "    def __init__(self, layer, N):\n",
    "        super(Decoder, self).__init__()\n",
    "        self.layers = clones(layer, N)\n",
    "        self.norm = LayerNorm(layer.size)\n",
    "    \n",
    "    def forward(self, x, memory, source_mask, target_mask):\n",
    "        # x: 词嵌入维度\n",
    "        # memory: 编码器输出张量\n",
    "        # source_mask: 原数据的掩码张量\n",
    "        # target_mask: 目标数据掩码张量\n",
    "        for layer in self.layers:\n",
    "            x = layer(x, memory, source_mask, target_mask)\n",
    "        return self.norm(x)"
   ]
  },
  {
   "cell_type": "markdown",
   "id": "cf1b67f7",
   "metadata": {},
   "source": [
    "## Softmax输出"
   ]
  },
  {
   "cell_type": "code",
   "execution_count": 68,
   "id": "66d6802d",
   "metadata": {},
   "outputs": [],
   "source": [
    "class Generator(nn.Module):\n",
    "    def __init__(self, d_model, vocab_size):\n",
    "        super(Generator, self).__init__()\n",
    "        self.project = nn.Linear(d_model, vocab_size)\n",
    "    \n",
    "    def forward(self, x):\n",
    "        return F.softmax(self.project(x), dim=-1)"
   ]
  },
  {
   "cell_type": "code",
   "execution_count": null,
   "id": "2251c65a",
   "metadata": {},
   "outputs": [],
   "source": []
  }
 ],
 "metadata": {
  "kernelspec": {
   "display_name": "py39",
   "language": "python",
   "name": "py39"
  },
  "language_info": {
   "codemirror_mode": {
    "name": "ipython",
    "version": 3
   },
   "file_extension": ".py",
   "mimetype": "text/x-python",
   "name": "python",
   "nbconvert_exporter": "python",
   "pygments_lexer": "ipython3",
   "version": "3.9.13"
  },
  "toc": {
   "base_numbering": 1,
   "nav_menu": {},
   "number_sections": true,
   "sideBar": true,
   "skip_h1_title": false,
   "title_cell": "Table of Contents",
   "title_sidebar": "Contents",
   "toc_cell": false,
   "toc_position": {
    "height": "calc(100% - 180px)",
    "left": "10px",
    "top": "150px",
    "width": "165px"
   },
   "toc_section_display": true,
   "toc_window_display": true
  }
 },
 "nbformat": 4,
 "nbformat_minor": 5
}
